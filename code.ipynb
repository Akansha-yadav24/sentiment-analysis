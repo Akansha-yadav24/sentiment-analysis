{
 "cells": [
  {
   "cell_type": "code",
   "execution_count": null,
   "id": "da68aa24",
   "metadata": {},
   "outputs": [],
   "source": [
    "pip install textblob\n",
    "pip install pandas"
   ]
  },
  {
   "cell_type": "code",
   "execution_count": 2,
   "id": "21ab94ac",
   "metadata": {},
   "outputs": [
    {
     "name": "stdout",
     "output_type": "stream",
     "text": [
      "Sentiment analysis tool -- powered by textblob\n",
      "                                   Review  Polarity   Sentiment\n",
      "0    Highly recommend this for beginners.  0.160000  Positive 🙂\n",
      "1                    Not worth the money. -0.150000  Negative 🥲\n",
      "2        Poorly structured and confusing. -0.350000  Negative 🥲\n",
      "3  The instructor was hard to understand. -0.291667  Negative 🥲\n",
      "4    Great pacing and clear explanations.  0.450000  Positive 🙂\n",
      "Full sentiment output saved to review sentiment output.csv\n"
     ]
    }
   ],
   "source": [
    "from textblob import TextBlob\n",
    "import pandas as pd\n",
    "import os\n",
    "\n",
    "def get_sentiment(polarity):\n",
    "    if polarity >0: \n",
    "        return \"Positive 🙂\"\n",
    "    elif polarity <0: \n",
    "        return \"Negative 🥲\"\n",
    "    else: \n",
    "        return \"Neutral\"\n",
    "    \n",
    "def analyze_text(text):\n",
    "    blob= TextBlob(text)\n",
    "    polarity=blob.sentiment.polarity\n",
    "    subjectivity=blob.sentiment.subjectivity\n",
    "    sentiment=get_sentiment(polarity)\n",
    "    print(f\"Sentiment: {sentiment}\")\n",
    "    print(f\"Polarity: {polarity}\")\n",
    "    print(f\"Subjectivity: {subjectivity}\")\n",
    "    \n",
    "def analyze_csv(file_path):\n",
    "    df=pd.read_csv(file_path)\n",
    "    df[\"Polarity\"]= df[\"Review\"].apply(lambda x: TextBlob(str(x)).sentiment.polarity)\n",
    "    df[\"Sentiment\"]=df[\"Polarity\"].apply(get_sentiment)\n",
    "    print(df[[\"Review\",\"Polarity\",\"Sentiment\"]].head())\n",
    "    df.to_csv(\"Review_sentiment_output.csv\",index=False)\n",
    "    print(\"Full sentiment output saved to review sentiment output.csv\")\n",
    "    \n",
    "if __name__==\"__main__\":\n",
    "    print(\"Sentiment analysis tool -- powered by textblob\")\n",
    "    choice=input(\"Do you want to analyze Text or CSV file? Enter 1 for TEXT file and 2 for CSV file.\")\n",
    "    if choice ==\"1\":\n",
    "        user_text=input(\"Enter your text:\")\n",
    "        analyze_text(user_text)\n",
    "    elif choice==\"2\":\n",
    "        csv_file= input(\"Enter  the csv file name (e.g review.csv):\")\n",
    "        if os.path.exists(csv_file):\n",
    "            analyze_csv(csv_file)\n",
    "        else:\n",
    "            print(\"File not found\")\n",
    "    else: \n",
    "        print(\"invalid choice\")"
   ]
  },
  {
   "cell_type": "code",
   "execution_count": null,
   "id": "4ec20cb4",
   "metadata": {},
   "outputs": [],
   "source": []
  }
 ],
 "metadata": {
  "kernelspec": {
   "display_name": "Python 3",
   "language": "python",
   "name": "python3"
  },
  "language_info": {
   "codemirror_mode": {
    "name": "ipython",
    "version": 3
   },
   "file_extension": ".py",
   "mimetype": "text/x-python",
   "name": "python",
   "nbconvert_exporter": "python",
   "pygments_lexer": "ipython3",
   "version": "3.12.7"
  }
 },
 "nbformat": 4,
 "nbformat_minor": 5
}
